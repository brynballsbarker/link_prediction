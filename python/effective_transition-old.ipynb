{
 "cells": [
  {
   "cell_type": "markdown",
   "metadata": {},
   "source": [
    "# Effective Transition"
   ]
  },
  {
   "cell_type": "code",
   "execution_count": 23,
   "metadata": {
    "collapsed": true
   },
   "outputs": [],
   "source": [
    "from scipy.sparse import linalg as la\n",
    "import numpy as np\n",
    "import networkx as nx\n",
    "from scipy.sparse import csr_matrix\n",
    "import matplotlib.pyplot as plt\n",
    "import time\n",
    "from math import floor, ceil"
   ]
  },
  {
   "cell_type": "code",
   "execution_count": 85,
   "metadata": {
    "collapsed": true
   },
   "outputs": [],
   "source": [
    "def delete_duplicates(pairs):\n",
    "    \"\"\"\n",
    "    deletes duplicate pairs from list pairs\n",
    "    \"\"\"\n",
    "    n = len(pairs)\n",
    "    copy = []\n",
    "    for pair in pairs:\n",
    "        copy.append(sorted(pair))\n",
    "\n",
    "    for i in range(1,n):\n",
    "        if copy.count(copy[n-i]) > 1:\n",
    "            del copy[n-i]\n",
    "    return copy\n",
    "\n",
    "def complement(first, second):\n",
    "    \"\"\"\n",
    "    returns the compliment of the first list in the second\n",
    "    \"\"\"\n",
    "    second = set(second)\n",
    "    return np.array([item for item in first if item not in second])\n",
    "\n",
    "def old_complement(first, second):\n",
    "    \"\"\"\n",
    "    returns the compliment of the first list in the second\n",
    "    \"\"\"\n",
    "    second = set(second)\n",
    "    return np.array([item for item in first if item not in second])\n",
    "\n",
    "def get_loc(pos, n):\n",
    "    \"\"\"\n",
    "    takes position in flattened array and gives location in non-flattened\n",
    "    \"\"\"\n",
    "    row = int(pos/n)\n",
    "    col = pos % n\n",
    "    return (row, col)\n",
    "\n",
    "\"\"\"X = csr_matrix([[1,3,4],[3,2,2],[4,8,1]])\n",
    "X = X[:,np.array([0,2])]\n",
    "X = X[np.array([0,2])]\"\"\"\n",
    "def partition(M, r, c):\n",
    "    \"\"\"\n",
    "    returns the r rows and c columns of sparse matrix M\n",
    "    \"\"\"\n",
    "    part = M[:,c]\n",
    "    part = part[r]\n",
    "    return part\n",
    "    \"\"\"part = []\n",
    "    for x in r:\n",
    "        for y in c:\n",
    "            part.append(M[x,y])\n",
    "    return np.array(part).reshape((len(r),len(c)))\"\"\"\n",
    "    \n",
    "def old_partition(M, r, c):\n",
    "    \"\"\"\n",
    "    returns the r rows and c columns of sparse matrix M\n",
    "    \"\"\"\n",
    "    part = []\n",
    "    for x in r:\n",
    "        for y in c:\n",
    "            part.append(M[x,y])\n",
    "    return np.array(part).reshape((len(r),len(c)))\n",
    "\n",
    "def scipy_eigsh(M, dim=1, tol=1e-8):\n",
    "    \"\"\"\n",
    "    returns the eigenvalue of largest magnitude corresponding to matrix M\n",
    "    \"\"\"\n",
    "    M = M.astype(np.float64)\n",
    "    sigma = la.eigsh(M, k=dim, which='LM', tol=tol, return_eigenvectors=False)\n",
    "    return sigma[0]\n",
    "\n",
    "def old_brute_et(M,k):\n",
    "    \"\"\"\n",
    "    predicts k links for network with adjacency matrix M\n",
    "    \"\"\"\n",
    "    n = M.shape[0]\n",
    "    r = list(range(n))\n",
    "    eigval = scipy_eigsh(M)\n",
    "\n",
    "    R = np.zeros((n,n))\n",
    "    for i in range(n):\n",
    "        for j in range(n):\n",
    "            if i != j:\n",
    "                first = old_partition(M,[i,j],[i,j])\n",
    "                comp = complement(r,[i,j])\n",
    "                second = old_partition(M,np.array([i,j]),comp) \n",
    "                temp = old_partition(M, comp, comp)\n",
    "                third = np.linalg.inv(partition(M, comp, comp)-eigval*np.identity(n-2))\n",
    "                fourth = old_partition(M, comp,[i,j])\n",
    "                #print(first.shape, second.shape, third.shape, fourth.shape)\n",
    "                okay = second @ third @ fourth\n",
    "                this = first-okay\n",
    "                R[i,j] = this[0,1]\n",
    "\n",
    "    pred = np.asarray(np.argsort(-1*(R - 10*M).reshape(n*n)))[0]\n",
    "\n",
    "    prediction = []\n",
    "    for p in pred:\n",
    "        prediction.append(get_loc(p,n))\n",
    "        \n",
    "    return delete_duplicates(prediction)[:k]\n",
    "\n",
    "def brute_effective_transition(M,k):\n",
    "    \"\"\"\n",
    "    predicts k links for network with adjacency matrix M\n",
    "    \"\"\"\n",
    "    n = M.shape[0]\n",
    "    r = list(range(n))\n",
    "    eigval = scipy_eigsh(M)\n",
    "\n",
    "    R = np.zeros((n,n))\n",
    "    for i in range(n):\n",
    "        for j in range(n):\n",
    "            if i != j:\n",
    "                first = partition(M,np.array([i,j]),np.array([i,j]))\n",
    "                comp = complement(r,[i,j])\n",
    "                second = partition(M,np.array([i,j]),comp) \n",
    "                temp = partition(M, comp, comp)\n",
    "                third = np.linalg.inv(partition(M, comp, comp)-eigval*np.identity(n-2))\n",
    "                fourth = partition(M, comp,np.array([i,j]))\n",
    "                #print(first.shape, second.shape, third.shape, fourth.shape)\n",
    "                okay = second @ third @ fourth\n",
    "                this = first-okay\n",
    "                R[i,j] = this[0,1]\n",
    "\n",
    "    pred = np.asarray(np.argsort(-1*(R - 10*M).reshape(n*n)))[0]\n",
    "\n",
    "    prediction = []\n",
    "    for p in pred:\n",
    "        prediction.append(get_loc(p,n))\n",
    "        \n",
    "    prediction = [(p[0],p[1]) for p in prediction]\n",
    "    return prediction[:k]"
   ]
  },
  {
   "cell_type": "code",
   "execution_count": 3,
   "metadata": {},
   "outputs": [
    {
     "name": "stdout",
     "output_type": "stream",
     "text": [
      "[[2, 5], [0, 3], [2, 3], [3, 8], [1, 7]]\n",
      "1.5166690349578857\n"
     ]
    }
   ],
   "source": [
    "# example\n",
    "G = nx.Graph()\n",
    "G.add_nodes_from(range(1,11))\n",
    "edges = [(1,2),(1,3),(1,6),(1,10),(2,3),(2,4),(2,6),(3,8),(3,9),(4,6),\n",
    "         (4,8),(4,10),(5,7),(5,9),(5,10),(6,8),(6,9),(7,8),(8,9),(9,10)]\n",
    "G.add_edges_from(edges)\n",
    "A = nx.adjacency_matrix(G)\n",
    "\n",
    "start = time.time()\n",
    "print(brute_effective_transition(A, 5))\n",
    "print(time.time()-start)"
   ]
  },
  {
   "cell_type": "code",
   "execution_count": 4,
   "metadata": {},
   "outputs": [
    {
     "name": "stdout",
     "output_type": "stream",
     "text": [
      "[[2, 5], [0, 3], [2, 3], [3, 8], [1, 7]]\n",
      "1.2645361423492432\n"
     ]
    }
   ],
   "source": [
    "# example\n",
    "G = nx.Graph()\n",
    "G.add_nodes_from(range(1,11))\n",
    "edges = [(1,2),(1,3),(1,6),(1,10),(2,3),(2,4),(2,6),(3,8),(3,9),(4,6),\n",
    "         (4,8),(4,10),(5,7),(5,9),(5,10),(6,8),(6,9),(7,8),(8,9),(9,10)]\n",
    "G.add_edges_from(edges)\n",
    "A = nx.adjacency_matrix(G)\n",
    "\n",
    "start = time.time()\n",
    "print(old_brute_et(A, 5))\n",
    "print(time.time()-start)"
   ]
  },
  {
   "cell_type": "code",
   "execution_count": 5,
   "metadata": {},
   "outputs": [
    {
     "name": "stdout",
     "output_type": "stream",
     "text": [
      "[[0, 4], [3, 6], [6, 9]]\n",
      "0.9199318885803223\n",
      "[[0, 4], [3, 6], [6, 9]]\n",
      "1.0843408107757568\n"
     ]
    }
   ],
   "source": [
    "# example\n",
    "G = nx.Graph()\n",
    "G.add_nodes_from(range(1,11))\n",
    "edges = [(1,2),(1,4),(1,7),(1,8),(1,10),(2,5),(2,6),(2,7),(2,8),(2,9),\n",
    "         (2,10),(3,10),(4,5),(4,9),(4,8),(5,6),(5,8),(5,10),(6,9),(7,8)]\n",
    "G.add_edges_from(edges)\n",
    "A = nx.adjacency_matrix(G)\n",
    "\n",
    "start = time.time()\n",
    "print(brute_effective_transition(A, 3))\n",
    "print(time.time()-start)\n",
    "\n",
    "start = time.time()\n",
    "print(old_brute_et(A, 3))\n",
    "print(time.time()-start)"
   ]
  },
  {
   "cell_type": "code",
   "execution_count": 6,
   "metadata": {
    "collapsed": true
   },
   "outputs": [],
   "source": [
    "X = csr_matrix([[1,3,4],[3,2,2],[4,8,1]])"
   ]
  },
  {
   "cell_type": "code",
   "execution_count": 7,
   "metadata": {},
   "outputs": [
    {
     "data": {
      "text/plain": [
       "array([[1, 3, 4],\n",
       "       [3, 2, 2],\n",
       "       [4, 8, 1]], dtype=int64)"
      ]
     },
     "execution_count": 7,
     "metadata": {},
     "output_type": "execute_result"
    }
   ],
   "source": [
    "X.toarray()"
   ]
  },
  {
   "cell_type": "code",
   "execution_count": 8,
   "metadata": {
    "collapsed": true
   },
   "outputs": [],
   "source": [
    "X = csr_matrix([[1,3,4],[3,2,2],[4,8,1]])\n",
    "X = X[:,np.array([0,2])]\n",
    "X = X[np.array([0,2])]"
   ]
  },
  {
   "cell_type": "code",
   "execution_count": 9,
   "metadata": {},
   "outputs": [
    {
     "data": {
      "text/plain": [
       "array([[1, 4],\n",
       "       [4, 1]], dtype=int64)"
      ]
     },
     "execution_count": 9,
     "metadata": {},
     "output_type": "execute_result"
    }
   ],
   "source": [
    "X.toarray()"
   ]
  },
  {
   "cell_type": "code",
   "execution_count": 10,
   "metadata": {
    "collapsed": true
   },
   "outputs": [],
   "source": [
    "ra = np.array(list(range(1,10)))"
   ]
  },
  {
   "cell_type": "code",
   "execution_count": 11,
   "metadata": {},
   "outputs": [
    {
     "data": {
      "text/plain": [
       "array([1, 2, 3, 4, 5, 6, 7, 8, 9])"
      ]
     },
     "execution_count": 11,
     "metadata": {},
     "output_type": "execute_result"
    }
   ],
   "source": [
    "ra"
   ]
  },
  {
   "cell_type": "code",
   "execution_count": 12,
   "metadata": {
    "collapsed": true
   },
   "outputs": [],
   "source": [
    "ij = np.array([3,4])"
   ]
  },
  {
   "cell_type": "code",
   "execution_count": 13,
   "metadata": {},
   "outputs": [
    {
     "data": {
      "text/plain": [
       "array([6, 5])"
      ]
     },
     "execution_count": 13,
     "metadata": {},
     "output_type": "execute_result"
    }
   ],
   "source": [
    "ra[~ij]"
   ]
  },
  {
   "cell_type": "code",
   "execution_count": 14,
   "metadata": {},
   "outputs": [
    {
     "data": {
      "text/plain": [
       "array([-4, -5])"
      ]
     },
     "execution_count": 14,
     "metadata": {},
     "output_type": "execute_result"
    }
   ],
   "source": [
    "~ij"
   ]
  },
  {
   "cell_type": "code",
   "execution_count": 78,
   "metadata": {
    "collapsed": true
   },
   "outputs": [],
   "source": [
    "def load_data(filename):\n",
    "    myfile = open(filename, 'r')\n",
    "    lines = myfile.readlines()\n",
    "    lines = [line.split() for line in lines]\n",
    "    time = 3 if len(lines[0])==4 else 2\n",
    "    lines = [[int(line[0]),int(line[1]),int(line[time])] for line in lines]\n",
    "    lines.sort(key=lambda x: x[2])\n",
    "    n = len(lines)\n",
    "    chop = floor(3*n/4)\n",
    "    train = lines[:chop]\n",
    "    to_train = [(edge[0],edge[1]) for edge in train]\n",
    "    test = lines[chop:]\n",
    "    k = len(test)\n",
    "    to_predict = [(edge[0],edge[1]) for edge in test]\n",
    "    G = nx.DiGraph()\n",
    "    G.add_edges_from(to_train)\n",
    "    G = max(nx.strongly_connected_component_subgraphs(G), key=len)\n",
    "    nodes = G.nodes()\n",
    "    test = lines[chop:]\n",
    "    to_predict = [(edge[0],edge[1]) for edge in test if edge[0] in nodes and edge[1] in nodes]\n",
    "\n",
    "    return G, to_predict"
   ]
  },
  {
   "cell_type": "code",
   "execution_count": 88,
   "metadata": {},
   "outputs": [
    {
     "name": "stdout",
     "output_type": "stream",
     "text": [
      "20441\n"
     ]
    }
   ],
   "source": [
    "filename = '/Users/bbb/link_prediction/data/manufacturing.txt'\n",
    "G, to_predict = load_data(filename)\n",
    "print(len(to_predict))\n",
    "nodes = G.nodes()\n",
    "A = nx.adjacency_matrix(G)\n",
    "d = np.sum(A,axis=1)\n",
    "M = A/d"
   ]
  },
  {
   "cell_type": "code",
   "execution_count": 89,
   "metadata": {},
   "outputs": [
    {
     "name": "stdout",
     "output_type": "stream",
     "text": [
      "28.9510760307312\n",
      "[(94, 123), (53, 122), (1, 123), (61, 96), (115, 96), (56, 96), (54, 96), (76, 123), (117, 77), (12, 96), (86, 123), (15, 96), (95, 123), (33, 96), (79, 123), (59, 123), (39, 122), (115, 123), (121, 96), (42, 96), (104, 123), (88, 96)]\n",
      "0.044\n"
     ]
    }
   ],
   "source": [
    "start = time.time()\n",
    "pred = brute_effective_transition(M, 500)\n",
    "print(time.time()-start)\n",
    "\n",
    "inter = list(set(pred)&set(to_predict))\n",
    "print(inter)\n",
    "print(len(inter)/len(pred))"
   ]
  },
  {
   "cell_type": "code",
   "execution_count": 84,
   "metadata": {},
   "outputs": [
    {
     "data": {
      "text/plain": [
       "[(12, 96), (6, 106), (41, 50), (8, 27), (15, 26), (15, 17)]"
      ]
     },
     "execution_count": 84,
     "metadata": {},
     "output_type": "execute_result"
    }
   ],
   "source": [
    "inter"
   ]
  },
  {
   "cell_type": "code",
   "execution_count": 86,
   "metadata": {},
   "outputs": [
    {
     "name": "stdout",
     "output_type": "stream",
     "text": [
      "2690\n"
     ]
    }
   ],
   "source": [
    "filename = '/Users/bbb/link_prediction/data/Dept4Emails.txt'\n",
    "G, to_predict = load_data(filename)\n",
    "print(len(to_predict))\n",
    "nodes = G.nodes()\n",
    "A = nx.adjacency_matrix(G)\n",
    "d = np.sum(A,axis=1)\n",
    "M = A/d"
   ]
  },
  {
   "cell_type": "code",
   "execution_count": 87,
   "metadata": {},
   "outputs": [
    {
     "name": "stdout",
     "output_type": "stream",
     "text": [
      "7.498342990875244\n",
      "[(43, 48), (48, 43), (60, 11), (23, 60), (14, 4), (48, 67), (54, 58), (19, 4), (25, 12), (25, 1), (35, 58), (23, 7), (70, 19), (54, 67), (35, 66), (4, 19), (30, 66), (22, 58), (54, 48), (64, 13), (0, 70), (70, 56), (25, 15), (49, 58), (23, 44), (4, 52), (52, 17), (24, 52), (48, 17), (66, 58), (35, 57), (25, 49), (18, 46), (33, 14), (47, 63), (54, 14), (12, 11), (52, 37), (35, 16), (16, 19), (60, 13), (49, 48), (35, 46), (43, 70), (14, 49), (60, 62), (44, 14), (23, 66), (16, 60), (58, 66), (25, 44), (54, 4), (17, 52), (35, 9), (60, 7), (7, 8), (26, 24), (25, 16), (71, 58), (52, 24), (39, 13), (49, 66), (16, 54), (14, 33), (11, 52), (44, 30), (1, 60), (25, 47), (30, 4), (64, 1), (25, 30), (48, 63), (25, 19), (60, 53), (48, 24), (71, 8), (35, 14), (13, 44), (60, 30), (52, 54), (56, 49), (54, 49), (2, 43), (58, 60), (49, 52), (48, 60), (25, 14), (48, 15), (71, 60), (54, 43), (60, 58), (49, 14), (16, 48), (60, 16), (35, 13), (33, 13), (4, 17), (52, 43), (35, 30), (18, 58), (13, 60), (35, 19), (39, 60), (25, 9), (49, 4), (14, 54), (48, 12), (66, 60), (8, 66), (22, 13), (18, 37), (23, 8), (60, 21), (60, 66), (25, 32), (66, 7), (60, 49), (39, 12), (35, 33), (67, 43), (60, 47), (18, 38), (71, 17), (12, 48), (18, 53), (4, 38), (54, 56), (66, 8), (60, 54), (43, 67), (14, 44), (60, 33), (58, 17), (35, 49), (60, 44), (52, 4), (43, 49), (49, 38), (26, 46), (14, 16), (64, 15), (70, 43), (19, 16), (25, 24), (66, 30), (49, 43), (49, 56), (49, 13), (52, 57), (35, 12), (44, 33), (67, 54), (12, 58), (35, 1), (43, 60), (14, 13), (35, 18), (60, 15), (49, 54), (43, 15), (71, 66), (60, 56), (43, 16), (23, 30), (48, 16), (71, 0), (67, 32), (23, 11), (64, 19), (11, 60), (60, 22), (43, 54), (17, 63), (35, 11), (71, 30), (60, 1), (9, 17), (23, 58), (48, 52), (57, 52), (54, 60), (60, 12), (25, 22), (44, 60), (35, 17), (50, 54), (57, 30), (25, 11), (44, 13), (24, 48), (4, 14), (71, 7), (42, 56), (64, 16), (58, 7), (8, 17), (22, 60), (12, 60), (7, 66), (48, 49), (38, 4), (14, 11), (54, 57), (49, 60), (39, 1), (48, 4), (63, 17), (58, 30), (4, 30)]\n",
      "0.07769516728624536\n"
     ]
    }
   ],
   "source": [
    "start = time.time()\n",
    "pred = brute_effective_transition(M, 2690)\n",
    "print(time.time()-start)\n",
    "\n",
    "inter = list(set(pred)&set(to_predict))\n",
    "print(inter)\n",
    "print(len(inter)/len(pred))"
   ]
  },
  {
   "cell_type": "code",
   "execution_count": 90,
   "metadata": {},
   "outputs": [
    {
     "name": "stdout",
     "output_type": "stream",
     "text": [
      "4175\n"
     ]
    }
   ],
   "source": [
    "filename = '/Users/bbb/link_prediction/data/Dept3Emails.txt'\n",
    "G, to_predict = load_data(filename)\n",
    "print(len(to_predict))\n",
    "nodes = G.nodes()\n",
    "A = nx.adjacency_matrix(G)\n",
    "d = np.sum(A,axis=1)\n",
    "M = A/d"
   ]
  },
  {
   "cell_type": "code",
   "execution_count": 91,
   "metadata": {},
   "outputs": [
    {
     "name": "stdout",
     "output_type": "stream",
     "text": [
      "0.5450179576873779\n",
      "4\n",
      "0.004162330905306972\n"
     ]
    }
   ],
   "source": [
    "start = time.time()\n",
    "pred = brute_effective_transition(M, 4175)\n",
    "print(time.time()-start)\n",
    "\n",
    "inter = list(set(pred)&set(to_predict))\n",
    "print(len(inter))\n",
    "print(len(inter)/len(pred))"
   ]
  },
  {
   "cell_type": "code",
   "execution_count": 92,
   "metadata": {},
   "outputs": [
    {
     "data": {
      "text/plain": [
       "961"
      ]
     },
     "execution_count": 92,
     "metadata": {},
     "output_type": "execute_result"
    }
   ],
   "source": [
    "len(pred)"
   ]
  },
  {
   "cell_type": "code",
   "execution_count": 93,
   "metadata": {},
   "outputs": [
    {
     "name": "stdout",
     "output_type": "stream",
     "text": [
      "6055\n"
     ]
    }
   ],
   "source": [
    "filename = '/Users/bbb/link_prediction/data/Dept2Emails.txt'\n",
    "G, to_predict = load_data(filename)\n",
    "print(len(to_predict))\n",
    "nodes = G.nodes()\n",
    "A = nx.adjacency_matrix(G)\n",
    "d = np.sum(A,axis=1)\n",
    "M = A/d"
   ]
  },
  {
   "cell_type": "code",
   "execution_count": 94,
   "metadata": {},
   "outputs": [
    {
     "name": "stdout",
     "output_type": "stream",
     "text": [
      "0.5578720569610596\n",
      "13\n",
      "0.014444444444444444\n"
     ]
    }
   ],
   "source": [
    "start = time.time()\n",
    "pred = brute_effective_transition(M, 6055)\n",
    "print(time.time()-start)\n",
    "\n",
    "inter = list(set(pred)&set(to_predict))\n",
    "print(len(inter))\n",
    "print(len(inter)/len(pred))"
   ]
  },
  {
   "cell_type": "code",
   "execution_count": 95,
   "metadata": {},
   "outputs": [
    {
     "data": {
      "text/plain": [
       "900"
      ]
     },
     "execution_count": 95,
     "metadata": {},
     "output_type": "execute_result"
    }
   ],
   "source": [
    "len(pred)"
   ]
  },
  {
   "cell_type": "code",
   "execution_count": null,
   "metadata": {
    "collapsed": true
   },
   "outputs": [],
   "source": []
  }
 ],
 "metadata": {
  "anaconda-cloud": {},
  "kernelspec": {
   "display_name": "Python 3",
   "language": "python",
   "name": "python3"
  },
  "language_info": {
   "codemirror_mode": {
    "name": "ipython",
    "version": 3
   },
   "file_extension": ".py",
   "mimetype": "text/x-python",
   "name": "python",
   "nbconvert_exporter": "python",
   "pygments_lexer": "ipython3",
   "version": "3.6.1"
  }
 },
 "nbformat": 4,
 "nbformat_minor": 2
}
