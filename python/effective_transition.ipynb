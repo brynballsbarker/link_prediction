{
 "cells": [
  {
   "cell_type": "markdown",
   "metadata": {},
   "source": [
    "# Effective Transition"
   ]
  },
  {
   "cell_type": "code",
   "execution_count": 3,
   "metadata": {
    "collapsed": true
   },
   "outputs": [],
   "source": [
    "from scipy.sparse import linalg as la\n",
    "import numpy as np\n",
    "import networkx as nx\n",
    "from scipy.sparse import csr_matrix\n",
    "import matplotlib.pyplot as plt\n",
    "import time\n",
    "from math import floor, ceil"
   ]
  },
  {
   "cell_type": "code",
   "execution_count": 4,
   "metadata": {
    "collapsed": true
   },
   "outputs": [],
   "source": [
    "def complement(first, second):\n",
    "    \"\"\"\n",
    "    returns the compliment of the first list in the second\n",
    "    \"\"\"\n",
    "    second = set(second)\n",
    "    return np.array([item for item in first if item not in second])\n",
    "\n",
    "def get_loc(pos, n):\n",
    "    \"\"\"\n",
    "    takes position in flattened array and gives location in non-flattened\n",
    "    \"\"\"\n",
    "    row = int(pos/n)\n",
    "    col = pos % n\n",
    "    return (row, col)\n",
    "\n",
    "def partition(M, r, c):\n",
    "    \"\"\"\n",
    "    returns the r rows and c columns of sparse matrix M\n",
    "    \"\"\"\n",
    "    part = M[:,c]\n",
    "    part = part[r]\n",
    "    return part\n",
    "    \"\"\"part = []\n",
    "    for x in r:\n",
    "        for y in c:\n",
    "            part.append(M[x,y])\n",
    "    return np.array(part).reshape((len(r),len(c)))\"\"\"\n",
    "\n",
    "def scipy_eigsh(M, dim=1, tol=1e-8):\n",
    "    \"\"\"\n",
    "    returns the eigenvalue of largest magnitude corresponding to matrix M\n",
    "    \"\"\"\n",
    "    M = M.astype(np.float64)\n",
    "    sigma = la.eigsh(M, k=dim, which='LM', tol=tol, return_eigenvectors=False)\n",
    "    return sigma[0]\n",
    "\n",
    "def brute_effective_transition(M,k):\n",
    "    \"\"\"\n",
    "    predicts k links for network with adjacency matrix M\n",
    "    \"\"\"\n",
    "    n = M.shape[0]\n",
    "    r = list(range(n))\n",
    "    eigval = scipy_eigsh(M)\n",
    "\n",
    "    R = np.zeros((n,n))\n",
    "    for i in range(n):\n",
    "        for j in range(n):\n",
    "            if i != j:\n",
    "                first = partition(M,np.array([i,j]),np.array([i,j]))\n",
    "                comp = complement(r,[i,j])\n",
    "                second = partition(M,np.array([i,j]),comp) \n",
    "                temp = partition(M, comp, comp)\n",
    "                third = np.linalg.inv(partition(M, comp, comp)-eigval*np.identity(n-2))\n",
    "                fourth = partition(M, comp,np.array([i,j]))\n",
    "                #print(first.shape, second.shape, third.shape, fourth.shape)\n",
    "                okay = second @ third @ fourth\n",
    "                this = first-okay\n",
    "                R[i,j] = this[0,1]\n",
    "\n",
    "    pred = np.asarray(np.argsort(-1*(R - 10*M).reshape(n*n)))[0]\n",
    "\n",
    "    prediction = []\n",
    "    for p in pred:\n",
    "        prediction.append(get_loc(p,n))\n",
    "        \n",
    "    prediction = [(p[0],p[1]) for p in prediction]\n",
    "    return prediction[:k]"
   ]
  },
  {
   "cell_type": "code",
   "execution_count": 5,
   "metadata": {},
   "outputs": [
    {
     "name": "stdout",
     "output_type": "stream",
     "text": [
      "[(5, 2), (2, 5), (0, 3), (3, 0), (3, 2)]\n",
      "1.293748140335083\n"
     ]
    }
   ],
   "source": [
    "# example\n",
    "G = nx.Graph()\n",
    "G.add_nodes_from(range(1,11))\n",
    "edges = [(1,2),(1,3),(1,6),(1,10),(2,3),(2,4),(2,6),(3,8),(3,9),(4,6),\n",
    "         (4,8),(4,10),(5,7),(5,9),(5,10),(6,8),(6,9),(7,8),(8,9),(9,10)]\n",
    "G.add_edges_from(edges)\n",
    "A = nx.adjacency_matrix(G)\n",
    "\n",
    "start = time.time()\n",
    "print(brute_effective_transition(A, 5))\n",
    "print(time.time()-start)"
   ]
  },
  {
   "cell_type": "code",
   "execution_count": 6,
   "metadata": {},
   "outputs": [
    {
     "name": "stdout",
     "output_type": "stream",
     "text": [
      "[(0, 4), (4, 0), (3, 6)]\n",
      "0.8602361679077148\n",
      "[[0, 4], [3, 6], [6, 9]]\n",
      "1.0931041240692139\n"
     ]
    }
   ],
   "source": [
    "# example\n",
    "G = nx.Graph()\n",
    "G.add_nodes_from(range(1,11))\n",
    "edges = [(1,2),(1,4),(1,7),(1,8),(1,10),(2,5),(2,6),(2,7),(2,8),(2,9),\n",
    "         (2,10),(3,10),(4,5),(4,9),(4,8),(5,6),(5,8),(5,10),(6,9),(7,8)]\n",
    "G.add_edges_from(edges)\n",
    "A = nx.adjacency_matrix(G)\n",
    "\n",
    "start = time.time()\n",
    "print(brute_effective_transition(A, 3))\n",
    "print(time.time()-start)\n",
    "\n",
    "start = time.time()\n",
    "print(old_brute_et(A, 3))\n",
    "print(time.time()-start)"
   ]
  },
  {
   "cell_type": "code",
   "execution_count": 7,
   "metadata": {
    "collapsed": true
   },
   "outputs": [],
   "source": [
    "def load_data(filename):\n",
    "    myfile = open(filename, 'r')\n",
    "    lines = myfile.readlines()\n",
    "    lines = [line.split() for line in lines]\n",
    "    time = 3 if len(lines[0])==4 else 2\n",
    "    lines = [[int(line[0]),int(line[1]),int(line[time])] for line in lines]\n",
    "    lines.sort(key=lambda x: x[2])\n",
    "    n = len(lines)\n",
    "    chop = floor(3*n/4)\n",
    "    train = lines[:chop]\n",
    "    to_train = [(edge[0],edge[1]) for edge in train]\n",
    "    test = lines[chop:]\n",
    "    k = len(test)\n",
    "    to_predict = [(edge[0],edge[1]) for edge in test]\n",
    "    G = nx.DiGraph()\n",
    "    G.add_edges_from(to_train)\n",
    "    G = max(nx.strongly_connected_component_subgraphs(G), key=len)\n",
    "    nodes = G.nodes()\n",
    "    test = lines[chop:]\n",
    "    to_predict = [(edge[0],edge[1]) for edge in test if edge[0] in nodes and edge[1] in nodes]\n",
    "\n",
    "    return G, to_predict"
   ]
  },
  {
   "cell_type": "code",
   "execution_count": 8,
   "metadata": {
    "collapsed": true
   },
   "outputs": [],
   "source": [
    "def get_score(fname):\n",
    "    G, to_predict = load_data(fname)\n",
    "    size = len(to_predict)\n",
    "    A = nx.adjacency_matrix(G)\n",
    "    d = np.sum(A,axis=1)\n",
    "    M = A/d\n",
    "    start = time.time()\n",
    "    pred = brute_effective_transition(M, size)\n",
    "    print('time',time.time()-start)\n",
    "    inter = list(set(pred)&set(to_predict))\n",
    "    print('score',len(inter)/len(pred))"
   ]
  },
  {
   "cell_type": "markdown",
   "metadata": {},
   "source": [
    "# Results"
   ]
  },
  {
   "cell_type": "code",
   "execution_count": 9,
   "metadata": {},
   "outputs": [
    {
     "name": "stdout",
     "output_type": "stream",
     "text": [
      "time 29.45850396156311\n",
      "score 0.1690602166792643\n"
     ]
    }
   ],
   "source": [
    "filename = '/Users/bbb/link_prediction/data/manufacturing.txt'\n",
    "get_score(filename)"
   ]
  },
  {
   "cell_type": "code",
   "execution_count": 10,
   "metadata": {},
   "outputs": [
    {
     "name": "stdout",
     "output_type": "stream",
     "text": [
      "time 8.109071969985962\n",
      "score 0.07769516728624536\n"
     ]
    }
   ],
   "source": [
    "filename = '/Users/bbb/link_prediction/data/Dept4Emails.txt'\n",
    "get_score(filename)"
   ]
  },
  {
   "cell_type": "code",
   "execution_count": 11,
   "metadata": {},
   "outputs": [
    {
     "name": "stdout",
     "output_type": "stream",
     "text": [
      "time 0.909125804901123\n",
      "score 0.004162330905306972\n"
     ]
    }
   ],
   "source": [
    "filename = '/Users/bbb/link_prediction/data/Dept3Emails.txt'\n",
    "get_score(filename)"
   ]
  },
  {
   "cell_type": "code",
   "execution_count": 12,
   "metadata": {},
   "outputs": [
    {
     "name": "stdout",
     "output_type": "stream",
     "text": [
      "time 0.4884638786315918\n",
      "score 0.014444444444444444\n"
     ]
    }
   ],
   "source": [
    "filename = '/Users/bbb/link_prediction/data/Dept2Emails.txt'\n",
    "get_score(filename)"
   ]
  },
  {
   "cell_type": "code",
   "execution_count": null,
   "metadata": {
    "collapsed": true
   },
   "outputs": [],
   "source": []
  }
 ],
 "metadata": {
  "anaconda-cloud": {},
  "kernelspec": {
   "display_name": "Python 3",
   "language": "python",
   "name": "python3"
  },
  "language_info": {
   "codemirror_mode": {
    "name": "ipython",
    "version": 3
   },
   "file_extension": ".py",
   "mimetype": "text/x-python",
   "name": "python",
   "nbconvert_exporter": "python",
   "pygments_lexer": "ipython3",
   "version": "3.6.1"
  }
 },
 "nbformat": 4,
 "nbformat_minor": 2
}
