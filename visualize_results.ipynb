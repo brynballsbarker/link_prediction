{
 "cells": [
  {
   "cell_type": "code",
   "execution_count": 139,
   "metadata": {},
   "outputs": [
    {
     "data": {
      "text/html": [
       "<div>\n",
       "<style scoped>\n",
       "    .dataframe tbody tr th:only-of-type {\n",
       "        vertical-align: middle;\n",
       "    }\n",
       "\n",
       "    .dataframe tbody tr th {\n",
       "        vertical-align: top;\n",
       "    }\n",
       "\n",
       "    .dataframe thead th {\n",
       "        text-align: right;\n",
       "    }\n",
       "</style>\n",
       "<table border=\"1\" class=\"dataframe\">\n",
       "  <thead>\n",
       "    <tr style=\"text-align: right;\">\n",
       "      <th></th>\n",
       "      <th>accuracy</th>\n",
       "      <th>time</th>\n",
       "    </tr>\n",
       "    <tr>\n",
       "      <th></th>\n",
       "      <th></th>\n",
       "      <th></th>\n",
       "    </tr>\n",
       "  </thead>\n",
       "  <tbody>\n",
       "    <tr>\n",
       "      <th>Common Neighbors</th>\n",
       "      <td>0.000000</td>\n",
       "      <td>0.005442</td>\n",
       "    </tr>\n",
       "    <tr>\n",
       "      <th>Hitting Time</th>\n",
       "      <td>0.025000</td>\n",
       "      <td>2.921970</td>\n",
       "    </tr>\n",
       "    <tr>\n",
       "      <th>Effective Transition</th>\n",
       "      <td>0.034343</td>\n",
       "      <td>16.172300</td>\n",
       "    </tr>\n",
       "    <tr>\n",
       "      <th>Weighted Effective Transition</th>\n",
       "      <td>0.238806</td>\n",
       "      <td>15.938200</td>\n",
       "    </tr>\n",
       "    <tr>\n",
       "      <th>Spectral Embedding</th>\n",
       "      <td>0.016598</td>\n",
       "      <td>0.062409</td>\n",
       "    </tr>\n",
       "    <tr>\n",
       "      <th>Shortest Path</th>\n",
       "      <td>0.020000</td>\n",
       "      <td>0.312399</td>\n",
       "    </tr>\n",
       "  </tbody>\n",
       "</table>\n",
       "</div>"
      ],
      "text/plain": [
       "                               accuracy       time\n",
       "                                                  \n",
       "Common Neighbors               0.000000   0.005442\n",
       "Hitting Time                   0.025000   2.921970\n",
       "Effective Transition           0.034343  16.172300\n",
       "Weighted Effective Transition  0.238806  15.938200\n",
       "Spectral Embedding             0.016598   0.062409\n",
       "Shortest Path                  0.020000   0.312399"
      ]
     },
     "execution_count": 139,
     "metadata": {},
     "output_type": "execute_result"
    }
   ],
   "source": [
    "d = {'':[\"Common Neighbors\",\"Hitting Time\",\n",
    "               \"Effective Transition\",\"Weighted Effective Transition\",\n",
    "               \"Spectral Embedding\",\"Shortest Path\"],\n",
    "     'accuracy':[0.,0.025,0.0343434,0.238806,0.0165975,0.02],\n",
    "     'time':[0.005442,2.92197,16.1723,15.9382,0.062409,0.312399]}\n",
    "\n",
    "df = pd.DataFrame(data=d)\n",
    "df = df.set_index('')\n",
    "df"
   ]
  },
  {
   "cell_type": "code",
   "execution_count": 159,
   "metadata": {},
   "outputs": [
    {
     "data": {
      "image/png": "[encoded data removed]",
      "text/plain": [
       "<matplotlib.figure.Figure at 0x7f22e8b3ee80>"
      ]
     },
     "metadata": {},
     "output_type": "display_data"
    }
   ],
   "source": [
    "import matplotlib.pyplot as plt\n",
    "import numpy as np\n",
    "import pandas as pd\n",
    "from io import StringIO\n",
    "\n",
    "d = {'':[\"Common\\nNeighbors\",\"Hitting\\nTime\",\n",
    "               \"Effective\\nTransition\",\"Weighted\\nEffective\\nTransition\",\n",
    "               \"Spectral\\nEmbedding\",\"Shortest\\nPath\"],\n",
    "     'accuracy':[0.,0.025,0.0343434,0.238806,0.0165975,0.02],\n",
    "     'time':[0.005442,2.92197,16.1723,15.9382,0.062409,0.312399]}\n",
    "\n",
    "df = pd.DataFrame(data=d)\n",
    "df = df.set_index('')\n",
    "\n",
    "\n",
    "fig = plt.figure() # Create matplotlib figure\n",
    "\n",
    "ax = fig.add_subplot(111) # Create matplotlib axes\n",
    "ax2 = ax.twinx() # Create another axes that shares the same x-axis as ax.\n",
    "\n",
    "width = 0.4\n",
    "\n",
    "a = df.accuracy.plot.bar(color='black', ax=ax, width=width, position=1,label=\"Accuracy\",rot=0)\n",
    "b = df.time.plot(kind='bar', color='slategrey', ax=ax2, width=width, position=0,label='Time')\n",
    "\n",
    "ax.set_ylabel('Accuracy')\n",
    "ax2.set_ylabel('Time')\n",
    "ax.legend(loc='upper left')\n",
    "ax2.legend()\n",
    "plt.title('ArXiv Hep-Th')\n",
    "plt.show()"
   ]
  },
  {
   "cell_type": "code",
   "execution_count": 145,
   "metadata": {},
   "outputs": [
    {
     "data": {
      "text/html": [
       "<div>\n",
       "<style scoped>\n",
       "    .dataframe tbody tr th:only-of-type {\n",
       "        vertical-align: middle;\n",
       "    }\n",
       "\n",
       "    .dataframe tbody tr th {\n",
       "        vertical-align: top;\n",
       "    }\n",
       "\n",
       "    .dataframe thead th {\n",
       "        text-align: right;\n",
       "    }\n",
       "</style>\n",
       "<table border=\"1\" class=\"dataframe\">\n",
       "  <thead>\n",
       "    <tr style=\"text-align: right;\">\n",
       "      <th></th>\n",
       "      <th>Accuracy</th>\n",
       "      <th>Time</th>\n",
       "    </tr>\n",
       "    <tr>\n",
       "      <th></th>\n",
       "      <th></th>\n",
       "      <th></th>\n",
       "    </tr>\n",
       "  </thead>\n",
       "  <tbody>\n",
       "    <tr>\n",
       "      <th>Common Neighbors</th>\n",
       "      <td>0.030965</td>\n",
       "      <td>0.014519</td>\n",
       "    </tr>\n",
       "    <tr>\n",
       "      <th>Hitting Time</th>\n",
       "      <td>0.109290</td>\n",
       "      <td>3.131360</td>\n",
       "    </tr>\n",
       "    <tr>\n",
       "      <th>Effective Transition</th>\n",
       "      <td>0.109290</td>\n",
       "      <td>7.925800</td>\n",
       "    </tr>\n",
       "    <tr>\n",
       "      <th>Weighted Effective Transition</th>\n",
       "      <td>0.089253</td>\n",
       "      <td>17.370500</td>\n",
       "    </tr>\n",
       "    <tr>\n",
       "      <th>Spectral Embedding</th>\n",
       "      <td>0.123862</td>\n",
       "      <td>0.342764</td>\n",
       "    </tr>\n",
       "    <tr>\n",
       "      <th>Shortest Path</th>\n",
       "      <td>0.105647</td>\n",
       "      <td>1.277630</td>\n",
       "    </tr>\n",
       "  </tbody>\n",
       "</table>\n",
       "</div>"
      ],
      "text/plain": [
       "                               Accuracy       Time\n",
       "                                                  \n",
       "Common Neighbors               0.030965   0.014519\n",
       "Hitting Time                   0.109290   3.131360\n",
       "Effective Transition           0.109290   7.925800\n",
       "Weighted Effective Transition  0.089253  17.370500\n",
       "Spectral Embedding             0.123862   0.342764\n",
       "Shortest Path                  0.105647   1.277630"
      ]
     },
     "execution_count": 145,
     "metadata": {},
     "output_type": "execute_result"
    }
   ],
   "source": [
    "d = {'':[\"Common Neighbors\",\"Hitting Time\",\n",
    "               \"Effective Transition\",\"Weighted Effective Transition\",\n",
    "               \"Spectral Embedding\",\"Shortest Path\"],\n",
    "     'Accuracy':[0.0309654,0.10929,0.10929,0.0892532,0.123862,.105647],\n",
    "     'Time':[0.014519,3.13136,7.9258,17.3705,0.342764,1.27763]}\n",
    "\n",
    "df = pd.DataFrame(data=d)\n",
    "df = df.set_index('')\n",
    "\n",
    "\n",
    "df"
   ]
  },
  {
   "cell_type": "code",
   "execution_count": 161,
   "metadata": {
    "scrolled": true
   },
   "outputs": [
    {
     "data": {
      "image/png": "[encoded data removed]",
      "text/plain": [
       "<matplotlib.figure.Figure at 0x7f22e8c154e0>"
      ]
     },
     "metadata": {},
     "output_type": "display_data"
    }
   ],
   "source": [
    "d = {'':[\"Common\\nNeighbors\",\"Hitting\\nTime\",\n",
    "               \"Effective\\nTransition\",\"Weighted\\nEffective\\nTransition\",\n",
    "               \"Spectral\\nEmbedding\",\"Shortest\\nPath\"],\n",
    "     'accuracy':[0.0309654,0.10929,0.10929,0.0892532,0.123862,.105647],\n",
    "     'time':[0.014519,3.13136,7.9258,17.3705,0.342764,1.27763]}\n",
    "\n",
    "df = pd.DataFrame(data=d)\n",
    "df = df.set_index('')\n",
    "\n",
    "fig = plt.figure() # Create matplotlib figure\n",
    "\n",
    "ax = fig.add_subplot(111) # Create matplotlib axes\n",
    "ax2 = ax.twinx() # Create another axes that shares the same x-axis as ax.\n",
    "\n",
    "width = 0.4\n",
    "\n",
    "a = df.accuracy.plot.bar(color='black', ax=ax, width=width, position=1,label=\"Accuracy\",rot=0)\n",
    "b = df.time.plot(kind='bar', color='slategrey', ax=ax2, width=width, position=0,label='Time')\n",
    "\n",
    "ax.set_ylabel('Accuracy')\n",
    "ax2.set_ylabel('Time')\n",
    "ax.legend(loc='upper left')\n",
    "ax2.legend()\n",
    "plt.title('HyperText')\n",
    "plt.xlabel('')\n"
   ]
  },
  {
   "cell_type": "code",
   "execution_count": 142,
   "metadata": {},
   "outputs": [
    {
     "data": {
      "text/html": [
       "<div>\n",
       "<style scoped>\n",
       "    .dataframe tbody tr th:only-of-type {\n",
       "        vertical-align: middle;\n",
       "    }\n",
       "\n",
       "    .dataframe tbody tr th {\n",
       "        vertical-align: top;\n",
       "    }\n",
       "\n",
       "    .dataframe thead th {\n",
       "        text-align: right;\n",
       "    }\n",
       "</style>\n",
       "<table border=\"1\" class=\"dataframe\">\n",
       "  <thead>\n",
       "    <tr style=\"text-align: right;\">\n",
       "      <th></th>\n",
       "      <th>accuracy</th>\n",
       "      <th>time</th>\n",
       "    </tr>\n",
       "    <tr>\n",
       "      <th></th>\n",
       "      <th></th>\n",
       "      <th></th>\n",
       "    </tr>\n",
       "  </thead>\n",
       "  <tbody>\n",
       "    <tr>\n",
       "      <th>Common Neighbors</th>\n",
       "      <td>0.000000</td>\n",
       "      <td>0.007585</td>\n",
       "    </tr>\n",
       "    <tr>\n",
       "      <th>Hitting Time</th>\n",
       "      <td>0.025000</td>\n",
       "      <td>23.603700</td>\n",
       "    </tr>\n",
       "    <tr>\n",
       "      <th>Effective Transition</th>\n",
       "      <td>0.044554</td>\n",
       "      <td>257.148000</td>\n",
       "    </tr>\n",
       "    <tr>\n",
       "      <th>Weighted Effective Transition</th>\n",
       "      <td>0.060000</td>\n",
       "      <td>259.774000</td>\n",
       "    </tr>\n",
       "    <tr>\n",
       "      <th>Spectral Embedding</th>\n",
       "      <td>0.015773</td>\n",
       "      <td>0.148560</td>\n",
       "    </tr>\n",
       "    <tr>\n",
       "      <th>Shortest Path</th>\n",
       "      <td>0.000000</td>\n",
       "      <td>2.217230</td>\n",
       "    </tr>\n",
       "  </tbody>\n",
       "</table>\n",
       "</div>"
      ],
      "text/plain": [
       "                               accuracy        time\n",
       "                                                   \n",
       "Common Neighbors               0.000000    0.007585\n",
       "Hitting Time                   0.025000   23.603700\n",
       "Effective Transition           0.044554  257.148000\n",
       "Weighted Effective Transition  0.060000  259.774000\n",
       "Spectral Embedding             0.015773    0.148560\n",
       "Shortest Path                  0.000000    2.217230"
      ]
     },
     "execution_count": 142,
     "metadata": {},
     "output_type": "execute_result"
    }
   ],
   "source": [
    "d = {'':[\"Common Neighbors\",\"Hitting Time\",\n",
    "               \"Effective Transition\",\"Weighted Effective Transition\",\n",
    "               \"Spectral Embedding\",\"Shortest Path\"],\n",
    "     'accuracy':[0.,0.025,0.0445545,0.06,0.0157729,0.],\n",
    "     'time':[0.007585,23.6037,257.148,259.774,0.14856,2.21723]}\n",
    "\n",
    "df = pd.DataFrame(data=d)\n",
    "df = df.set_index('')\n",
    "df"
   ]
  },
  {
   "cell_type": "code",
   "execution_count": 166,
   "metadata": {},
   "outputs": [
    {
     "data": {
      "image/png": "[encoded data removed]",
      "text/plain": [
       "<matplotlib.figure.Figure at 0x7f22e81a6c50>"
      ]
     },
     "metadata": {},
     "output_type": "display_data"
    }
   ],
   "source": [
    "d = {'':[\"Common\\nNeighbors\",\"Hitting\\nTime\",\n",
    "               \"Effective\\nTransition\",\"Weighted\\nEffective\\nTransition\",\n",
    "               \"Spectral\\nEmbedding\",\"Shortest\\nPath\"],\n",
    "     'accuracy':[0.,0.025,0.0445545,0.06,0.0157729,0.],\n",
    "     'time':[0.007585,23.6037,257.148,259.774,0.14856,2.21723]}\n",
    "\n",
    "df = pd.DataFrame(data=d)\n",
    "df = df.set_index('')\n",
    "\n",
    "fig = plt.figure() # Create matplotlib figure\n",
    "\n",
    "ax = fig.add_subplot(111) # Create matplotlib axes\n",
    "ax2 = ax.twinx() # Create another axes that shares the same x-axis as ax.\n",
    "\n",
    "width = 0.4\n",
    "\n",
    "a = df.accuracy.plot.bar(color='black', ax=ax, width=width, position=1,label=\"Accuracy\",rot=0)\n",
    "b = df.time.plot(kind='bar', color='slategrey', ax=ax2, width=width, position=0,label='Time')\n",
    "\n",
    "ax.set_ylabel('Accuracy ')\n",
    "ax2.set_ylabel('Time ')\n",
    "ax.legend(loc='upper left')\n",
    "ax2.legend()\n",
    "plt.title('ArXiv Hep-Ph')\n",
    "plt.xlabel('')\n",
    "plt.show()"
   ]
  },
  {
   "cell_type": "code",
   "execution_count": null,
   "metadata": {
    "collapsed": true
   },
   "outputs": [],
   "source": [
    "import matplotlib.pyplot as plt\n",
    "import numpy as np\n",
    "import pandas as pd\n",
    "from io import StringIO\n",
    "\n",
    "d = {'':[i for i in range(1,21)],\n",
    "     'accuracy':[0.,0.025,0.0343434,0.238806,0.0165975,0.02],\n",
    "     'time':[0.005442,2.92197,16.1723,15.9382,0.062409,0.312399]}\n",
    "\n",
    "df = pd.DataFrame(data=d)\n",
    "df = df.set_index('')\n",
    "\n",
    "\n",
    "fig = plt.figure() # Create matplotlib figure\n",
    "\n",
    "ax = fig.add_subplot(111) # Create matplotlib axes\n",
    "ax2 = ax.twinx() # Create another axes that shares the same x-axis as ax.\n",
    "\n",
    "width = 0.4\n",
    "\n",
    "a = df.accuracy.plot.bar(color='black', ax=ax, width=width, position=1,label=\"Accuracy\",rot=0)\n",
    "b = df.time.plot(kind='bar', color='slategrey', ax=ax2, width=width, position=0,label='Time')\n",
    "\n",
    "ax.set_ylabel('Accuracy')\n",
    "ax2.set_ylabel('Time')\n",
    "ax.legend(loc='upper left')\n",
    "ax2.legend()\n",
    "plt.title('ArXiv Hep-Th')\n",
    "plt.show()"
   ]
  },
  {
   "cell_type": "code",
   "execution_count": 33,
   "metadata": {},
   "outputs": [
    {
     "name": "stdout",
     "output_type": "stream",
     "text": [
      "20 20\n"
     ]
    }
   ],
   "source": [
    "k = [i for i in range(2,22)]\n",
    "hagA = [0.00754717,0.00377358,0.00377358,0.00377358,0.00377358,0.00377358,0.00377358,0.00377358,0.00377358,0.00377358,0.00377358,0.00377358,0.00377358,0.00377358,0.00377358,0.00377358,0.00377358,0.00377358,0.00377358,0.00377358]\n",
    "hagT = [14.01, 126.99,312.766,606,1042,1690,2274,2797,3598,4318,5085,6034,7351,8821,8949,10636,11163,12318,13786,14420]\n",
    "\n",
    "print(len(hagA),len(hagT))\n"
   ]
  },
  {
   "cell_type": "code",
   "execution_count": 1,
   "metadata": {},
   "outputs": [],
   "source": [
    "s = \"\"\"0.109489             3.93678\n",
    "0.120438             24.5419\n",
    "0.109489             55.0038\n",
    "0.109489             108.566\n",
    "0.105839             178.321\n",
    "0.10219             230.464\n",
    "0.10219             304.123\n",
    "0.0985401             401.494\n",
    "0.0985401             478.688\n",
    "0.0985401             585.705\n",
    "0.0948905             716.79\n",
    "0.0948905             788.39\n",
    "0.0912409             924.475\n",
    "0.0912409             1038.08\n",
    "0.0912409             1123.44\n",
    "0.0912409             1419.62\n",
    "0.0912409             1508.05\n",
    "0.0912409             1556.77\n",
    "0.0948905             1661.83\n",
    "0.0912409             1861.\"\"\""
   ]
  },
  {
   "cell_type": "code",
   "execution_count": 3,
   "metadata": {},
   "outputs": [],
   "source": [
    "s = s.split('\\n')"
   ]
  },
  {
   "cell_type": "code",
   "execution_count": 6,
   "metadata": {},
   "outputs": [],
   "source": [
    "ss = [i.split() for i in s]\n",
    "hypA = [i[0] for i in ss]\n",
    "hypT = [i[1] for i in ss]"
   ]
  },
  {
   "cell_type": "code",
   "execution_count": 8,
   "metadata": {},
   "outputs": [
    {
     "data": {
      "text/plain": [
       "['3.93678',\n",
       " '24.5419',\n",
       " '55.0038',\n",
       " '108.566',\n",
       " '178.321',\n",
       " '230.464',\n",
       " '304.123',\n",
       " '401.494',\n",
       " '478.688',\n",
       " '585.705',\n",
       " '716.79',\n",
       " '788.39',\n",
       " '924.475',\n",
       " '1038.08',\n",
       " '1123.44',\n",
       " '1419.62',\n",
       " '1508.05',\n",
       " '1556.77',\n",
       " '1661.83',\n",
       " '1861.']"
      ]
     },
     "execution_count": 8,
     "metadata": {},
     "output_type": "execute_result"
    }
   ],
   "source": [
    "hypT\n"
   ]
  },
  {
   "cell_type": "code",
   "execution_count": 10,
   "metadata": {},
   "outputs": [],
   "source": [
    "import matplotlib.pyplot as plt"
   ]
  },
  {
   "cell_type": "code",
   "execution_count": 40,
   "metadata": {},
   "outputs": [
    {
     "data": {
      "image/png": "[encoded data removed]",
      "text/plain": [
       "<matplotlib.figure.Figure at 0x7f4372f61eb8>"
      ]
     },
     "metadata": {},
     "output_type": "display_data"
    }
   ],
   "source": [
    "plt.plot(k,hagA,label='Haggle')\n",
    "plt.plot(k,hypA,label='Hypertext')\n",
    "plt.plot(k[:9],manA,label='Manufacturing')\n",
    "plt.legend()\n",
    "plt.ylabel('Accuracy')\n",
    "plt.xlabel('Number of Terms in Sum')\n",
    "plt.title('Accuracy vs Terms in Sum')\n",
    "plt.xlim(1.75,10)\n",
    "plt.ylim(0,.122)\n",
    "plt.show()"
   ]
  },
  {
   "cell_type": "code",
   "execution_count": 39,
   "metadata": {},
   "outputs": [
    {
     "data": {
      "image/png": "[encoded data removed]",
      "text/plain": [
       "<matplotlib.figure.Figure at 0x7f43734fe320>"
      ]
     },
     "metadata": {},
     "output_type": "display_data"
    }
   ],
   "source": [
    "plt.plot(k,hagT,label='Haggle')\n",
    "plt.plot(k,hypT,label='Hypertext')\n",
    "plt.plot(k[:9],manT,label='Manufacturing')\n",
    "plt.legend()\n",
    "plt.ylabel('Time (s)')\n",
    "plt.xlabel('Number of Terms in Sum')\n",
    "plt.title('Time vs Terms in Sum')\n",
    "plt.xlim(1.75,10)\n",
    "plt.ylim(0,5000)\n",
    "plt.show()"
   ]
  },
  {
   "cell_type": "code",
   "execution_count": 37,
   "metadata": {},
   "outputs": [],
   "source": [
    "s=\"\"\"0.024             6.57858\n",
    "0.022             52.3547\n",
    "0.02             107.985\n",
    "0.018             285.269\n",
    "0.018             533.152\n",
    "0.014             779.736\n",
    "0.012             952.579\n",
    "0.012             1160.81\n",
    "0.012             1590.29\"\"\"\n",
    "s = s.split('\\n')\n",
    "ss = [i.split() for i in s]\n",
    "manA = [i[0] for i in ss]\n",
    "manT = [i[1] for i in ss]"
   ]
  },
  {
   "cell_type": "code",
   "execution_count": 14,
   "metadata": {},
   "outputs": [
    {
     "data": {
      "text/plain": [
       "['0.024', '0.022', '0.02', '0.018', '0.018', '0.014', '0.012', '0.012']"
      ]
     },
     "execution_count": 14,
     "metadata": {},
     "output_type": "execute_result"
    }
   ],
   "source": [
    "manA"
   ]
  },
  {
   "cell_type": "code",
   "execution_count": null,
   "metadata": {},
   "outputs": [],
   "source": []
  }
 ],
 "metadata": {
  "kernelspec": {
   "display_name": "Python 3",
   "language": "python",
   "name": "python3"
  },
  "language_info": {
   "codemirror_mode": {
    "name": "ipython",
    "version": 3
   },
   "file_extension": ".py",
   "mimetype": "text/x-python",
   "name": "python",
   "nbconvert_exporter": "python",
   "pygments_lexer": "ipython3",
   "version": "3.6.4"
  }
 },
 "nbformat": 4,
 "nbformat_minor": 2
}
